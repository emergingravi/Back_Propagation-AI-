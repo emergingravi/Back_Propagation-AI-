{
 "cells": [
  {
   "cell_type": "code",
   "execution_count": 3,
   "metadata": {},
   "outputs": [],
   "source": [
    "import numpy as np\n"
   ]
  },
  {
   "cell_type": "code",
   "execution_count": 4,
   "metadata": {},
   "outputs": [],
   "source": [
    "\n",
    "# Sigmoid function and its derivative\n",
    "def sigmoid(x):\n",
    "    return 1 / (1 + np.exp(-x))\n",
    "\n",
    "def sigmoid_derivative(x):\n",
    "    return x * (1 - x)"
   ]
  },
  {
   "cell_type": "code",
   "execution_count": 5,
   "metadata": {},
   "outputs": [],
   "source": [
    "# Input dataset (XOR problem)\n",
    "X = np.array([[0, 0],\n",
    "              [0, 1],\n",
    "              [1, 0],\n",
    "              [1, 1]])\n"
   ]
  },
  {
   "cell_type": "code",
   "execution_count": 6,
   "metadata": {},
   "outputs": [],
   "source": [
    "# Output dataset\n",
    "y = np.array([[0], [1], [1], [0]])"
   ]
  },
  {
   "cell_type": "code",
   "execution_count": 7,
   "metadata": {},
   "outputs": [],
   "source": [
    "# Seed random numbers for consistency\n",
    "np.random.seed(42)"
   ]
  },
  {
   "cell_type": "code",
   "execution_count": 8,
   "metadata": {},
   "outputs": [],
   "source": [
    "# Initialize weights randomly with mean 0\n",
    "input_size = 2\n",
    "hidden_size = 4\n",
    "output_size = 1"
   ]
  },
  {
   "cell_type": "code",
   "execution_count": 9,
   "metadata": {},
   "outputs": [],
   "source": [
    "# Weights for input to hidden layer\n",
    "W1 = np.random.randn(input_size, hidden_size)\n",
    "\n",
    "# Weights for hidden to output layer\n",
    "W2 = np.random.randn(hidden_size, output_size)"
   ]
  },
  {
   "cell_type": "code",
   "execution_count": 10,
   "metadata": {},
   "outputs": [],
   "source": [
    "# Learning rate\n",
    "learning_rate = 0.1\n"
   ]
  },
  {
   "cell_type": "code",
   "execution_count": 11,
   "metadata": {},
   "outputs": [
    {
     "name": "stdout",
     "output_type": "stream",
     "text": [
      "Epoch 0 Error: 0.5055238630815773\n",
      "Epoch 1000 Error: 0.4966413970122899\n",
      "Epoch 2000 Error: 0.47065356607289766\n",
      "Epoch 3000 Error: 0.3918372231515031\n",
      "Epoch 4000 Error: 0.25602971658138307\n",
      "Epoch 5000 Error: 0.1717556781529199\n",
      "Epoch 6000 Error: 0.13288148158393354\n",
      "Epoch 7000 Error: 0.11088813025897316\n",
      "Epoch 8000 Error: 0.09652198066660347\n",
      "Epoch 9000 Error: 0.0862568138111614\n"
     ]
    }
   ],
   "source": [
    "# Training loop\n",
    "for epoch in range(10000):\n",
    "    # Forward propagation\n",
    "    hidden_layer_input = np.dot(X, W1)\n",
    "    hidden_layer_output = sigmoid(hidden_layer_input)\n",
    "\n",
    "    final_output_input = np.dot(hidden_layer_output, W2)\n",
    "    final_output = sigmoid(final_output_input)\n",
    "\n",
    "    # Calculate error\n",
    "    error = y - final_output\n",
    "\n",
    "    if epoch % 1000 == 0:\n",
    "        print(f\"Epoch {epoch} Error: {np.mean(np.abs(error))}\")\n",
    "\n",
    "    # Backpropagation\n",
    "    final_output_delta = error * sigmoid_derivative(final_output)\n",
    "    hidden_layer_error = final_output_delta.dot(W2.T)\n",
    "    hidden_layer_delta = hidden_layer_error * sigmoid_derivative(hidden_layer_output)\n",
    "\n",
    "    # Update weights\n",
    "    W2 += hidden_layer_output.T.dot(final_output_delta) * learning_rate\n",
    "    W1 += X.T.dot(hidden_layer_delta) * learning_rate"
   ]
  },
  {
   "cell_type": "code",
   "execution_count": 12,
   "metadata": {},
   "outputs": [
    {
     "name": "stdout",
     "output_type": "stream",
     "text": [
      "Final output after training:\n",
      "[[0.09621289]\n",
      " [0.92302491]\n",
      " [0.9231145 ]\n",
      " [0.06383597]]\n"
     ]
    }
   ],
   "source": [
    "# Test the trained network\n",
    "print(\"Final output after training:\")\n",
    "print(final_output)"
   ]
  },
  {
   "cell_type": "code",
   "execution_count": null,
   "metadata": {},
   "outputs": [],
   "source": []
  }
 ],
 "metadata": {
  "kernelspec": {
   "display_name": "fuzzy_env",
   "language": "python",
   "name": "python3"
  },
  "language_info": {
   "codemirror_mode": {
    "name": "ipython",
    "version": 3
   },
   "file_extension": ".py",
   "mimetype": "text/x-python",
   "name": "python",
   "nbconvert_exporter": "python",
   "pygments_lexer": "ipython3",
   "version": "3.8.19"
  }
 },
 "nbformat": 4,
 "nbformat_minor": 2
}
